{
 "cells": [
  {
   "cell_type": "code",
   "execution_count": 1,
   "id": "2c47c1c4",
   "metadata": {},
   "outputs": [],
   "source": [
    "#Importing the necessary modules for the analysis\n",
    "import pandas as pd\n",
    "import numpy as np\n",
    "import matplotlib.pyplot as plt\n",
    "import seaborn as sns\n",
    "import plotly.graph_objs as go"
   ]
  },
  {
   "cell_type": "markdown",
   "id": "b9b01f2c-6e92-4be1-a6a5-fb1155444750",
   "metadata": {},
   "source": [
    "https://www.kaggle.com/code/cstein06/tutorial-to-the-g-research-crypto-competition/notebook"
   ]
  },
  {
   "cell_type": "markdown",
   "id": "f9aedc25-10de-4787-833c-5b0f25d2395f",
   "metadata": {},
   "source": [
    "## Loading the data into the pandas dataframe"
   ]
  },
  {
   "cell_type": "code",
   "execution_count": 2,
   "id": "89a45e57",
   "metadata": {},
   "outputs": [
    {
     "data": {
      "text/html": [
       "<div>\n",
       "<style scoped>\n",
       "    .dataframe tbody tr th:only-of-type {\n",
       "        vertical-align: middle;\n",
       "    }\n",
       "\n",
       "    .dataframe tbody tr th {\n",
       "        vertical-align: top;\n",
       "    }\n",
       "\n",
       "    .dataframe thead th {\n",
       "        text-align: right;\n",
       "    }\n",
       "</style>\n",
       "<table border=\"1\" class=\"dataframe\">\n",
       "  <thead>\n",
       "    <tr style=\"text-align: right;\">\n",
       "      <th></th>\n",
       "      <th>timestamp</th>\n",
       "      <th>Asset_ID</th>\n",
       "      <th>Count</th>\n",
       "      <th>Open</th>\n",
       "      <th>High</th>\n",
       "      <th>Low</th>\n",
       "      <th>Close</th>\n",
       "      <th>Volume</th>\n",
       "      <th>VWAP</th>\n",
       "      <th>Target</th>\n",
       "    </tr>\n",
       "  </thead>\n",
       "  <tbody>\n",
       "    <tr>\n",
       "      <th>0</th>\n",
       "      <td>1514764860</td>\n",
       "      <td>6</td>\n",
       "      <td>173.0</td>\n",
       "      <td>738.3025</td>\n",
       "      <td>746.00</td>\n",
       "      <td>732.51</td>\n",
       "      <td>738.5075</td>\n",
       "      <td>335.987856</td>\n",
       "      <td>738.839291</td>\n",
       "      <td>-0.004809</td>\n",
       "    </tr>\n",
       "    <tr>\n",
       "      <th>1</th>\n",
       "      <td>1514764920</td>\n",
       "      <td>6</td>\n",
       "      <td>192.0</td>\n",
       "      <td>738.5075</td>\n",
       "      <td>745.14</td>\n",
       "      <td>732.49</td>\n",
       "      <td>738.2600</td>\n",
       "      <td>232.793141</td>\n",
       "      <td>738.268967</td>\n",
       "      <td>-0.004441</td>\n",
       "    </tr>\n",
       "    <tr>\n",
       "      <th>2</th>\n",
       "      <td>1514764980</td>\n",
       "      <td>6</td>\n",
       "      <td>120.0</td>\n",
       "      <td>738.3325</td>\n",
       "      <td>745.12</td>\n",
       "      <td>730.00</td>\n",
       "      <td>737.5025</td>\n",
       "      <td>174.138031</td>\n",
       "      <td>737.994457</td>\n",
       "      <td>-0.004206</td>\n",
       "    </tr>\n",
       "    <tr>\n",
       "      <th>3</th>\n",
       "      <td>1514765040</td>\n",
       "      <td>6</td>\n",
       "      <td>156.0</td>\n",
       "      <td>737.2225</td>\n",
       "      <td>744.69</td>\n",
       "      <td>728.93</td>\n",
       "      <td>737.1025</td>\n",
       "      <td>165.383926</td>\n",
       "      <td>737.303631</td>\n",
       "      <td>-0.002205</td>\n",
       "    </tr>\n",
       "    <tr>\n",
       "      <th>4</th>\n",
       "      <td>1514765100</td>\n",
       "      <td>6</td>\n",
       "      <td>118.0</td>\n",
       "      <td>736.5300</td>\n",
       "      <td>743.80</td>\n",
       "      <td>727.11</td>\n",
       "      <td>735.7050</td>\n",
       "      <td>193.078039</td>\n",
       "      <td>736.163026</td>\n",
       "      <td>-0.001744</td>\n",
       "    </tr>\n",
       "  </tbody>\n",
       "</table>\n",
       "</div>"
      ],
      "text/plain": [
       "    timestamp  Asset_ID  Count      Open    High     Low     Close  \\\n",
       "0  1514764860         6  173.0  738.3025  746.00  732.51  738.5075   \n",
       "1  1514764920         6  192.0  738.5075  745.14  732.49  738.2600   \n",
       "2  1514764980         6  120.0  738.3325  745.12  730.00  737.5025   \n",
       "3  1514765040         6  156.0  737.2225  744.69  728.93  737.1025   \n",
       "4  1514765100         6  118.0  736.5300  743.80  727.11  735.7050   \n",
       "\n",
       "       Volume        VWAP    Target  \n",
       "0  335.987856  738.839291 -0.004809  \n",
       "1  232.793141  738.268967 -0.004441  \n",
       "2  174.138031  737.994457 -0.004206  \n",
       "3  165.383926  737.303631 -0.002205  \n",
       "4  193.078039  736.163026 -0.001744  "
      ]
     },
     "execution_count": 2,
     "metadata": {},
     "output_type": "execute_result"
    }
   ],
   "source": [
    "#reading the data \n",
    "dataset = pd.read_csv('ethereum.csv', index_col=False, sep=\",\")\n",
    "dataset.head()"
   ]
  },
  {
   "cell_type": "code",
   "execution_count": 3,
   "id": "0b555add",
   "metadata": {},
   "outputs": [
    {
     "data": {
      "text/html": [
       "<div>\n",
       "<style scoped>\n",
       "    .dataframe tbody tr th:only-of-type {\n",
       "        vertical-align: middle;\n",
       "    }\n",
       "\n",
       "    .dataframe tbody tr th {\n",
       "        vertical-align: top;\n",
       "    }\n",
       "\n",
       "    .dataframe thead th {\n",
       "        text-align: right;\n",
       "    }\n",
       "</style>\n",
       "<table border=\"1\" class=\"dataframe\">\n",
       "  <thead>\n",
       "    <tr style=\"text-align: right;\">\n",
       "      <th></th>\n",
       "      <th>timestamp</th>\n",
       "      <th>Asset_ID</th>\n",
       "      <th>Count</th>\n",
       "      <th>Open</th>\n",
       "      <th>High</th>\n",
       "      <th>Low</th>\n",
       "      <th>Close</th>\n",
       "      <th>Volume</th>\n",
       "      <th>VWAP</th>\n",
       "      <th>Target</th>\n",
       "    </tr>\n",
       "  </thead>\n",
       "  <tbody>\n",
       "    <tr>\n",
       "      <th>1956195</th>\n",
       "      <td>1632182160</td>\n",
       "      <td>6</td>\n",
       "      <td>2162.0</td>\n",
       "      <td>2973.728686</td>\n",
       "      <td>2976.10</td>\n",
       "      <td>2962.09</td>\n",
       "      <td>2964.711429</td>\n",
       "      <td>751.256906</td>\n",
       "      <td>2968.339295</td>\n",
       "      <td>NaN</td>\n",
       "    </tr>\n",
       "    <tr>\n",
       "      <th>1956196</th>\n",
       "      <td>1632182220</td>\n",
       "      <td>6</td>\n",
       "      <td>1976.0</td>\n",
       "      <td>2965.461446</td>\n",
       "      <td>2967.95</td>\n",
       "      <td>2958.05</td>\n",
       "      <td>2960.845714</td>\n",
       "      <td>729.113672</td>\n",
       "      <td>2963.499199</td>\n",
       "      <td>NaN</td>\n",
       "    </tr>\n",
       "    <tr>\n",
       "      <th>1956197</th>\n",
       "      <td>1632182280</td>\n",
       "      <td>6</td>\n",
       "      <td>2262.0</td>\n",
       "      <td>2960.321429</td>\n",
       "      <td>2962.60</td>\n",
       "      <td>2954.14</td>\n",
       "      <td>2957.398571</td>\n",
       "      <td>807.935362</td>\n",
       "      <td>2958.464868</td>\n",
       "      <td>NaN</td>\n",
       "    </tr>\n",
       "    <tr>\n",
       "      <th>1956198</th>\n",
       "      <td>1632182340</td>\n",
       "      <td>6</td>\n",
       "      <td>3594.0</td>\n",
       "      <td>2958.771429</td>\n",
       "      <td>2978.71</td>\n",
       "      <td>2956.75</td>\n",
       "      <td>2977.190000</td>\n",
       "      <td>1723.473979</td>\n",
       "      <td>2970.867698</td>\n",
       "      <td>NaN</td>\n",
       "    </tr>\n",
       "    <tr>\n",
       "      <th>1956199</th>\n",
       "      <td>1632182400</td>\n",
       "      <td>6</td>\n",
       "      <td>2205.0</td>\n",
       "      <td>2976.858333</td>\n",
       "      <td>2978.82</td>\n",
       "      <td>2969.35</td>\n",
       "      <td>2972.603333</td>\n",
       "      <td>1204.825710</td>\n",
       "      <td>2975.213919</td>\n",
       "      <td>NaN</td>\n",
       "    </tr>\n",
       "  </tbody>\n",
       "</table>\n",
       "</div>"
      ],
      "text/plain": [
       "          timestamp  Asset_ID   Count         Open     High      Low  \\\n",
       "1956195  1632182160         6  2162.0  2973.728686  2976.10  2962.09   \n",
       "1956196  1632182220         6  1976.0  2965.461446  2967.95  2958.05   \n",
       "1956197  1632182280         6  2262.0  2960.321429  2962.60  2954.14   \n",
       "1956198  1632182340         6  3594.0  2958.771429  2978.71  2956.75   \n",
       "1956199  1632182400         6  2205.0  2976.858333  2978.82  2969.35   \n",
       "\n",
       "               Close       Volume         VWAP  Target  \n",
       "1956195  2964.711429   751.256906  2968.339295     NaN  \n",
       "1956196  2960.845714   729.113672  2963.499199     NaN  \n",
       "1956197  2957.398571   807.935362  2958.464868     NaN  \n",
       "1956198  2977.190000  1723.473979  2970.867698     NaN  \n",
       "1956199  2972.603333  1204.825710  2975.213919     NaN  "
      ]
     },
     "execution_count": 3,
     "metadata": {},
     "output_type": "execute_result"
    }
   ],
   "source": [
    "dataset.tail() #printing the last 5 values in the dataset"
   ]
  },
  {
   "cell_type": "code",
   "execution_count": 4,
   "id": "7495d48c",
   "metadata": {},
   "outputs": [
    {
     "data": {
      "text/plain": [
       "(1956200, 10)"
      ]
     },
     "execution_count": 4,
     "metadata": {},
     "output_type": "execute_result"
    }
   ],
   "source": [
    "#the shape of the dataset\n",
    "dataset.shape"
   ]
  },
  {
   "cell_type": "code",
   "execution_count": 5,
   "id": "e1c0949e",
   "metadata": {},
   "outputs": [
    {
     "name": "stdout",
     "output_type": "stream",
     "text": [
      "           Empty Cells\n",
      "timestamp            0\n",
      "Asset_ID             0\n",
      "Count                0\n",
      "Open                 0\n",
      "High                 0\n",
      "Low                  0\n",
      "Close                0\n",
      "Volume               0\n",
      "VWAP                 0\n",
      "Target             340\n"
     ]
    }
   ],
   "source": [
    "missing_data = dataset.isnull().sum().to_frame()\n",
    "\n",
    "# Rename column holding the sums\n",
    "missing_data = missing_data.rename(columns={0:'Empty Cells'})\n",
    "\n",
    "# Print the results\n",
    "print(missing_data)"
   ]
  },
  {
   "cell_type": "code",
   "execution_count": 6,
   "id": "9ace88de",
   "metadata": {},
   "outputs": [
    {
     "name": "stdout",
     "output_type": "stream",
     "text": [
      "<class 'pandas.core.frame.DataFrame'>\n",
      "Int64Index: 1956200 entries, 1514764860 to 1632182400\n",
      "Data columns (total 9 columns):\n",
      " #   Column    Non-Null Count    Dtype  \n",
      "---  ------    --------------    -----  \n",
      " 0   Asset_ID  1956200 non-null  int64  \n",
      " 1   Count     1956200 non-null  float64\n",
      " 2   Open      1956200 non-null  float64\n",
      " 3   High      1956200 non-null  float64\n",
      " 4   Low       1956200 non-null  float64\n",
      " 5   Close     1956200 non-null  float64\n",
      " 6   Volume    1956200 non-null  float64\n",
      " 7   VWAP      1956200 non-null  float64\n",
      " 8   Target    1955860 non-null  float64\n",
      "dtypes: float64(8), int64(1)\n",
      "memory usage: 149.2 MB\n"
     ]
    }
   ],
   "source": [
    "eth = dataset.set_index(\"timestamp\")\n",
    "eth.info(show_counts =True)"
   ]
  },
  {
   "cell_type": "code",
   "execution_count": 7,
   "id": "30e18847",
   "metadata": {},
   "outputs": [
    {
     "name": "stdout",
     "output_type": "stream",
     "text": [
      "Ethereum data goes from  2018-01-01T00:01:00 to  2021-09-21T00:00:00\n"
     ]
    }
   ],
   "source": [
    "# Range from which dataset was collected\n",
    "\n",
    "beg_eth = eth.index[0].astype('datetime64[s]')\n",
    "end_eth = eth.index[-1].astype('datetime64[s]')\n",
    "\n",
    "print('Ethereum data goes from ', beg_eth, 'to ', end_eth)"
   ]
  },
  {
   "cell_type": "code",
   "execution_count": 8,
   "id": "857c470f",
   "metadata": {},
   "outputs": [
    {
     "data": {
      "text/plain": [
       "60      1956043\n",
       "120         100\n",
       "180          23\n",
       "300           5\n",
       "540           4\n",
       "240           3\n",
       "360           2\n",
       "480           2\n",
       "600           2\n",
       "2220          1\n",
       "420           1\n",
       "780           1\n",
       "900           1\n",
       "1380          1\n",
       "2580          1\n",
       "1320          1\n",
       "1980          1\n",
       "1020          1\n",
       "1860          1\n",
       "7200          1\n",
       "960           1\n",
       "4740          1\n",
       "3120          1\n",
       "1080          1\n",
       "Name: timestamp, dtype: int64"
      ]
     },
     "execution_count": 8,
     "metadata": {},
     "output_type": "execute_result"
    }
   ],
   "source": [
    "# It's mentioned in this dataset that few of the data was missing for certain timeframe.\n",
    "# each row contains values corresponds to observations that was obtained in 1 minute.\n",
    "\n",
    "(eth.index[1:]-eth.index[:-1]).value_counts()"
   ]
  },
  {
   "cell_type": "markdown",
   "id": "c9234488",
   "metadata": {},
   "source": [
    "As can be can be clearly seen from the above cell that there are gaps in the dataset, so we will need to preprocess\n",
    "this dataset that we have using the standard preprocessing steps"
   ]
  },
  {
   "cell_type": "markdown",
   "id": "3f721528",
   "metadata": {},
   "source": [
    "https://mobile.surenapps.com/2020/09/unit-2-missing-data-and-filling-values.html"
   ]
  },
  {
   "cell_type": "code",
   "execution_count": 9,
   "id": "1b4a4159",
   "metadata": {},
   "outputs": [],
   "source": [
    "eth = eth.reindex(range(eth.index[0],eth.index[-1]+60,60),method='pad')"
   ]
  },
  {
   "cell_type": "code",
   "execution_count": 10,
   "id": "5fd41442",
   "metadata": {},
   "outputs": [
    {
     "data": {
      "text/plain": [
       "60    1956959\n",
       "Name: timestamp, dtype: int64"
      ]
     },
     "execution_count": 10,
     "metadata": {},
     "output_type": "execute_result"
    }
   ],
   "source": [
    "(eth.index[1:]-eth.index[:-1]).value_counts()"
   ]
  },
  {
   "cell_type": "code",
   "execution_count": 11,
   "id": "cba56177",
   "metadata": {
    "scrolled": true
   },
   "outputs": [
    {
     "data": {
      "text/plain": [
       "(1956960, 9)"
      ]
     },
     "execution_count": 11,
     "metadata": {},
     "output_type": "execute_result"
    }
   ],
   "source": [
    "eth.shape"
   ]
  },
  {
   "cell_type": "code",
   "execution_count": 12,
   "id": "d294794d",
   "metadata": {},
   "outputs": [
    {
     "data": {
      "text/plain": [
       "RangeIndex(start=1514764860, stop=1632182460, step=60, name='timestamp')"
      ]
     },
     "execution_count": 12,
     "metadata": {},
     "output_type": "execute_result"
    }
   ],
   "source": [
    "eth.index.drop_duplicates(keep='first') #droppinng the duplicates"
   ]
  },
  {
   "cell_type": "code",
   "execution_count": 13,
   "id": "b2a4b99b",
   "metadata": {},
   "outputs": [
    {
     "data": {
      "text/plain": [
       "1056"
      ]
     },
     "execution_count": 13,
     "metadata": {},
     "output_type": "execute_result"
    }
   ],
   "source": [
    "eth['Target'].isnull().sum() #printing the number of null values"
   ]
  },
  {
   "cell_type": "code",
   "execution_count": 14,
   "id": "70944074",
   "metadata": {},
   "outputs": [
    {
     "data": {
      "text/html": [
       "<div>\n",
       "<style scoped>\n",
       "    .dataframe tbody tr th:only-of-type {\n",
       "        vertical-align: middle;\n",
       "    }\n",
       "\n",
       "    .dataframe tbody tr th {\n",
       "        vertical-align: top;\n",
       "    }\n",
       "\n",
       "    .dataframe thead th {\n",
       "        text-align: right;\n",
       "    }\n",
       "</style>\n",
       "<table border=\"1\" class=\"dataframe\">\n",
       "  <thead>\n",
       "    <tr style=\"text-align: right;\">\n",
       "      <th></th>\n",
       "      <th>Asset_ID</th>\n",
       "      <th>Count</th>\n",
       "      <th>Open</th>\n",
       "      <th>High</th>\n",
       "      <th>Low</th>\n",
       "      <th>Close</th>\n",
       "      <th>Volume</th>\n",
       "      <th>VWAP</th>\n",
       "      <th>Target</th>\n",
       "    </tr>\n",
       "    <tr>\n",
       "      <th>timestamp</th>\n",
       "      <th></th>\n",
       "      <th></th>\n",
       "      <th></th>\n",
       "      <th></th>\n",
       "      <th></th>\n",
       "      <th></th>\n",
       "      <th></th>\n",
       "      <th></th>\n",
       "      <th></th>\n",
       "    </tr>\n",
       "  </thead>\n",
       "  <tbody>\n",
       "    <tr>\n",
       "      <th>1571181660</th>\n",
       "      <td>6</td>\n",
       "      <td>7.0</td>\n",
       "      <td>179.740000</td>\n",
       "      <td>179.79</td>\n",
       "      <td>179.68</td>\n",
       "      <td>179.723333</td>\n",
       "      <td>7.548218</td>\n",
       "      <td>179.728824</td>\n",
       "      <td>NaN</td>\n",
       "    </tr>\n",
       "    <tr>\n",
       "      <th>1571182560</th>\n",
       "      <td>6</td>\n",
       "      <td>3.0</td>\n",
       "      <td>180.575000</td>\n",
       "      <td>180.80</td>\n",
       "      <td>180.32</td>\n",
       "      <td>180.560000</td>\n",
       "      <td>2.820106</td>\n",
       "      <td>180.567940</td>\n",
       "      <td>NaN</td>\n",
       "    </tr>\n",
       "    <tr>\n",
       "      <th>1571182620</th>\n",
       "      <td>6</td>\n",
       "      <td>3.0</td>\n",
       "      <td>180.575000</td>\n",
       "      <td>180.80</td>\n",
       "      <td>180.32</td>\n",
       "      <td>180.560000</td>\n",
       "      <td>2.820106</td>\n",
       "      <td>180.567940</td>\n",
       "      <td>NaN</td>\n",
       "    </tr>\n",
       "    <tr>\n",
       "      <th>1571183460</th>\n",
       "      <td>6</td>\n",
       "      <td>1.0</td>\n",
       "      <td>180.600000</td>\n",
       "      <td>180.60</td>\n",
       "      <td>180.60</td>\n",
       "      <td>180.600000</td>\n",
       "      <td>0.563330</td>\n",
       "      <td>180.600000</td>\n",
       "      <td>NaN</td>\n",
       "    </tr>\n",
       "    <tr>\n",
       "      <th>1571183520</th>\n",
       "      <td>6</td>\n",
       "      <td>1.0</td>\n",
       "      <td>180.600000</td>\n",
       "      <td>180.60</td>\n",
       "      <td>180.60</td>\n",
       "      <td>180.600000</td>\n",
       "      <td>0.563330</td>\n",
       "      <td>180.600000</td>\n",
       "      <td>NaN</td>\n",
       "    </tr>\n",
       "    <tr>\n",
       "      <th>...</th>\n",
       "      <td>...</td>\n",
       "      <td>...</td>\n",
       "      <td>...</td>\n",
       "      <td>...</td>\n",
       "      <td>...</td>\n",
       "      <td>...</td>\n",
       "      <td>...</td>\n",
       "      <td>...</td>\n",
       "      <td>...</td>\n",
       "    </tr>\n",
       "    <tr>\n",
       "      <th>1632182160</th>\n",
       "      <td>6</td>\n",
       "      <td>2162.0</td>\n",
       "      <td>2973.728686</td>\n",
       "      <td>2976.10</td>\n",
       "      <td>2962.09</td>\n",
       "      <td>2964.711429</td>\n",
       "      <td>751.256906</td>\n",
       "      <td>2968.339295</td>\n",
       "      <td>NaN</td>\n",
       "    </tr>\n",
       "    <tr>\n",
       "      <th>1632182220</th>\n",
       "      <td>6</td>\n",
       "      <td>1976.0</td>\n",
       "      <td>2965.461446</td>\n",
       "      <td>2967.95</td>\n",
       "      <td>2958.05</td>\n",
       "      <td>2960.845714</td>\n",
       "      <td>729.113672</td>\n",
       "      <td>2963.499199</td>\n",
       "      <td>NaN</td>\n",
       "    </tr>\n",
       "    <tr>\n",
       "      <th>1632182280</th>\n",
       "      <td>6</td>\n",
       "      <td>2262.0</td>\n",
       "      <td>2960.321429</td>\n",
       "      <td>2962.60</td>\n",
       "      <td>2954.14</td>\n",
       "      <td>2957.398571</td>\n",
       "      <td>807.935362</td>\n",
       "      <td>2958.464868</td>\n",
       "      <td>NaN</td>\n",
       "    </tr>\n",
       "    <tr>\n",
       "      <th>1632182340</th>\n",
       "      <td>6</td>\n",
       "      <td>3594.0</td>\n",
       "      <td>2958.771429</td>\n",
       "      <td>2978.71</td>\n",
       "      <td>2956.75</td>\n",
       "      <td>2977.190000</td>\n",
       "      <td>1723.473979</td>\n",
       "      <td>2970.867698</td>\n",
       "      <td>NaN</td>\n",
       "    </tr>\n",
       "    <tr>\n",
       "      <th>1632182400</th>\n",
       "      <td>6</td>\n",
       "      <td>2205.0</td>\n",
       "      <td>2976.858333</td>\n",
       "      <td>2978.82</td>\n",
       "      <td>2969.35</td>\n",
       "      <td>2972.603333</td>\n",
       "      <td>1204.825710</td>\n",
       "      <td>2975.213919</td>\n",
       "      <td>NaN</td>\n",
       "    </tr>\n",
       "  </tbody>\n",
       "</table>\n",
       "<p>1056 rows × 9 columns</p>\n",
       "</div>"
      ],
      "text/plain": [
       "            Asset_ID   Count         Open     High      Low        Close  \\\n",
       "timestamp                                                                  \n",
       "1571181660         6     7.0   179.740000   179.79   179.68   179.723333   \n",
       "1571182560         6     3.0   180.575000   180.80   180.32   180.560000   \n",
       "1571182620         6     3.0   180.575000   180.80   180.32   180.560000   \n",
       "1571183460         6     1.0   180.600000   180.60   180.60   180.600000   \n",
       "1571183520         6     1.0   180.600000   180.60   180.60   180.600000   \n",
       "...              ...     ...          ...      ...      ...          ...   \n",
       "1632182160         6  2162.0  2973.728686  2976.10  2962.09  2964.711429   \n",
       "1632182220         6  1976.0  2965.461446  2967.95  2958.05  2960.845714   \n",
       "1632182280         6  2262.0  2960.321429  2962.60  2954.14  2957.398571   \n",
       "1632182340         6  3594.0  2958.771429  2978.71  2956.75  2977.190000   \n",
       "1632182400         6  2205.0  2976.858333  2978.82  2969.35  2972.603333   \n",
       "\n",
       "                 Volume         VWAP  Target  \n",
       "timestamp                                     \n",
       "1571181660     7.548218   179.728824     NaN  \n",
       "1571182560     2.820106   180.567940     NaN  \n",
       "1571182620     2.820106   180.567940     NaN  \n",
       "1571183460     0.563330   180.600000     NaN  \n",
       "1571183520     0.563330   180.600000     NaN  \n",
       "...                 ...          ...     ...  \n",
       "1632182160   751.256906  2968.339295     NaN  \n",
       "1632182220   729.113672  2963.499199     NaN  \n",
       "1632182280   807.935362  2958.464868     NaN  \n",
       "1632182340  1723.473979  2970.867698     NaN  \n",
       "1632182400  1204.825710  2975.213919     NaN  \n",
       "\n",
       "[1056 rows x 9 columns]"
      ]
     },
     "execution_count": 14,
     "metadata": {},
     "output_type": "execute_result"
    }
   ],
   "source": [
    "eth[eth['Target'].isnull()] #printing all the entire data frame that contains null values"
   ]
  },
  {
   "cell_type": "code",
   "execution_count": 16,
   "id": "51ab3069",
   "metadata": {},
   "outputs": [
    {
     "data": {
      "text/html": [
       "<div>\n",
       "<style scoped>\n",
       "    .dataframe tbody tr th:only-of-type {\n",
       "        vertical-align: middle;\n",
       "    }\n",
       "\n",
       "    .dataframe tbody tr th {\n",
       "        vertical-align: top;\n",
       "    }\n",
       "\n",
       "    .dataframe thead th {\n",
       "        text-align: right;\n",
       "    }\n",
       "</style>\n",
       "<table border=\"1\" class=\"dataframe\">\n",
       "  <thead>\n",
       "    <tr style=\"text-align: right;\">\n",
       "      <th></th>\n",
       "      <th>Asset_ID</th>\n",
       "      <th>Count</th>\n",
       "      <th>Open</th>\n",
       "      <th>High</th>\n",
       "      <th>Low</th>\n",
       "      <th>Close</th>\n",
       "      <th>Volume</th>\n",
       "      <th>VWAP</th>\n",
       "      <th>Target</th>\n",
       "    </tr>\n",
       "    <tr>\n",
       "      <th>timestamp</th>\n",
       "      <th></th>\n",
       "      <th></th>\n",
       "      <th></th>\n",
       "      <th></th>\n",
       "      <th></th>\n",
       "      <th></th>\n",
       "      <th></th>\n",
       "      <th></th>\n",
       "      <th></th>\n",
       "    </tr>\n",
       "  </thead>\n",
       "  <tbody>\n",
       "    <tr>\n",
       "      <th>1632181260</th>\n",
       "      <td>6</td>\n",
       "      <td>2534.0</td>\n",
       "      <td>2960.612857</td>\n",
       "      <td>2968.70</td>\n",
       "      <td>2958.39</td>\n",
       "      <td>2965.927143</td>\n",
       "      <td>776.638911</td>\n",
       "      <td>2964.322014</td>\n",
       "      <td>-0.000736</td>\n",
       "    </tr>\n",
       "    <tr>\n",
       "      <th>1632181320</th>\n",
       "      <td>6</td>\n",
       "      <td>2321.0</td>\n",
       "      <td>2965.741429</td>\n",
       "      <td>2969.29</td>\n",
       "      <td>2960.60</td>\n",
       "      <td>2966.315714</td>\n",
       "      <td>976.724995</td>\n",
       "      <td>2965.543538</td>\n",
       "      <td>-0.000491</td>\n",
       "    </tr>\n",
       "    <tr>\n",
       "      <th>1632181380</th>\n",
       "      <td>6</td>\n",
       "      <td>1971.0</td>\n",
       "      <td>2967.775714</td>\n",
       "      <td>2971.11</td>\n",
       "      <td>2959.22</td>\n",
       "      <td>2961.050000</td>\n",
       "      <td>674.087973</td>\n",
       "      <td>2964.359745</td>\n",
       "      <td>-0.000562</td>\n",
       "    </tr>\n",
       "    <tr>\n",
       "      <th>1632181440</th>\n",
       "      <td>6</td>\n",
       "      <td>2023.0</td>\n",
       "      <td>2961.502857</td>\n",
       "      <td>2964.77</td>\n",
       "      <td>2953.66</td>\n",
       "      <td>2955.754286</td>\n",
       "      <td>738.290907</td>\n",
       "      <td>2958.430582</td>\n",
       "      <td>-0.000346</td>\n",
       "    </tr>\n",
       "    <tr>\n",
       "      <th>1632181500</th>\n",
       "      <td>6</td>\n",
       "      <td>2136.0</td>\n",
       "      <td>2955.425714</td>\n",
       "      <td>2960.23</td>\n",
       "      <td>2952.00</td>\n",
       "      <td>2953.845739</td>\n",
       "      <td>1039.819802</td>\n",
       "      <td>2954.909916</td>\n",
       "      <td>NaN</td>\n",
       "    </tr>\n",
       "    <tr>\n",
       "      <th>1632181560</th>\n",
       "      <td>6</td>\n",
       "      <td>2232.0</td>\n",
       "      <td>2954.987143</td>\n",
       "      <td>2965.91</td>\n",
       "      <td>2952.71</td>\n",
       "      <td>2962.108571</td>\n",
       "      <td>988.495383</td>\n",
       "      <td>2959.758004</td>\n",
       "      <td>NaN</td>\n",
       "    </tr>\n",
       "    <tr>\n",
       "      <th>1632181620</th>\n",
       "      <td>6</td>\n",
       "      <td>1818.0</td>\n",
       "      <td>2963.701429</td>\n",
       "      <td>2966.19</td>\n",
       "      <td>2962.21</td>\n",
       "      <td>2963.394286</td>\n",
       "      <td>543.637417</td>\n",
       "      <td>2964.446210</td>\n",
       "      <td>NaN</td>\n",
       "    </tr>\n",
       "    <tr>\n",
       "      <th>1632181680</th>\n",
       "      <td>6</td>\n",
       "      <td>1807.0</td>\n",
       "      <td>2963.307143</td>\n",
       "      <td>2966.07</td>\n",
       "      <td>2957.91</td>\n",
       "      <td>2959.516104</td>\n",
       "      <td>616.735469</td>\n",
       "      <td>2962.137479</td>\n",
       "      <td>NaN</td>\n",
       "    </tr>\n",
       "    <tr>\n",
       "      <th>1632181740</th>\n",
       "      <td>6</td>\n",
       "      <td>3037.0</td>\n",
       "      <td>2959.851429</td>\n",
       "      <td>2974.10</td>\n",
       "      <td>2958.09</td>\n",
       "      <td>2971.905714</td>\n",
       "      <td>1157.438196</td>\n",
       "      <td>2966.750574</td>\n",
       "      <td>NaN</td>\n",
       "    </tr>\n",
       "    <tr>\n",
       "      <th>1632181800</th>\n",
       "      <td>6</td>\n",
       "      <td>4347.0</td>\n",
       "      <td>2972.461429</td>\n",
       "      <td>2982.58</td>\n",
       "      <td>2967.82</td>\n",
       "      <td>2978.068664</td>\n",
       "      <td>1909.666066</td>\n",
       "      <td>2976.327430</td>\n",
       "      <td>NaN</td>\n",
       "    </tr>\n",
       "    <tr>\n",
       "      <th>1632181860</th>\n",
       "      <td>6</td>\n",
       "      <td>2236.0</td>\n",
       "      <td>2977.472857</td>\n",
       "      <td>2979.21</td>\n",
       "      <td>2971.34</td>\n",
       "      <td>2975.140000</td>\n",
       "      <td>1214.450028</td>\n",
       "      <td>2975.892402</td>\n",
       "      <td>NaN</td>\n",
       "    </tr>\n",
       "    <tr>\n",
       "      <th>1632181920</th>\n",
       "      <td>6</td>\n",
       "      <td>1954.0</td>\n",
       "      <td>2974.152857</td>\n",
       "      <td>2981.68</td>\n",
       "      <td>2971.34</td>\n",
       "      <td>2977.195714</td>\n",
       "      <td>897.910876</td>\n",
       "      <td>2976.578485</td>\n",
       "      <td>NaN</td>\n",
       "    </tr>\n",
       "    <tr>\n",
       "      <th>1632181980</th>\n",
       "      <td>6</td>\n",
       "      <td>1482.0</td>\n",
       "      <td>2977.297143</td>\n",
       "      <td>2980.08</td>\n",
       "      <td>2973.57</td>\n",
       "      <td>2977.387143</td>\n",
       "      <td>627.436628</td>\n",
       "      <td>2976.801821</td>\n",
       "      <td>NaN</td>\n",
       "    </tr>\n",
       "    <tr>\n",
       "      <th>1632182040</th>\n",
       "      <td>6</td>\n",
       "      <td>1589.0</td>\n",
       "      <td>2978.032857</td>\n",
       "      <td>2982.90</td>\n",
       "      <td>2975.88</td>\n",
       "      <td>2978.137143</td>\n",
       "      <td>652.429945</td>\n",
       "      <td>2978.955863</td>\n",
       "      <td>NaN</td>\n",
       "    </tr>\n",
       "    <tr>\n",
       "      <th>1632182100</th>\n",
       "      <td>6</td>\n",
       "      <td>1536.0</td>\n",
       "      <td>2977.782857</td>\n",
       "      <td>2979.00</td>\n",
       "      <td>2967.13</td>\n",
       "      <td>2974.027143</td>\n",
       "      <td>847.132620</td>\n",
       "      <td>2974.717101</td>\n",
       "      <td>NaN</td>\n",
       "    </tr>\n",
       "    <tr>\n",
       "      <th>1632182160</th>\n",
       "      <td>6</td>\n",
       "      <td>2162.0</td>\n",
       "      <td>2973.728686</td>\n",
       "      <td>2976.10</td>\n",
       "      <td>2962.09</td>\n",
       "      <td>2964.711429</td>\n",
       "      <td>751.256906</td>\n",
       "      <td>2968.339295</td>\n",
       "      <td>NaN</td>\n",
       "    </tr>\n",
       "    <tr>\n",
       "      <th>1632182220</th>\n",
       "      <td>6</td>\n",
       "      <td>1976.0</td>\n",
       "      <td>2965.461446</td>\n",
       "      <td>2967.95</td>\n",
       "      <td>2958.05</td>\n",
       "      <td>2960.845714</td>\n",
       "      <td>729.113672</td>\n",
       "      <td>2963.499199</td>\n",
       "      <td>NaN</td>\n",
       "    </tr>\n",
       "    <tr>\n",
       "      <th>1632182280</th>\n",
       "      <td>6</td>\n",
       "      <td>2262.0</td>\n",
       "      <td>2960.321429</td>\n",
       "      <td>2962.60</td>\n",
       "      <td>2954.14</td>\n",
       "      <td>2957.398571</td>\n",
       "      <td>807.935362</td>\n",
       "      <td>2958.464868</td>\n",
       "      <td>NaN</td>\n",
       "    </tr>\n",
       "    <tr>\n",
       "      <th>1632182340</th>\n",
       "      <td>6</td>\n",
       "      <td>3594.0</td>\n",
       "      <td>2958.771429</td>\n",
       "      <td>2978.71</td>\n",
       "      <td>2956.75</td>\n",
       "      <td>2977.190000</td>\n",
       "      <td>1723.473979</td>\n",
       "      <td>2970.867698</td>\n",
       "      <td>NaN</td>\n",
       "    </tr>\n",
       "    <tr>\n",
       "      <th>1632182400</th>\n",
       "      <td>6</td>\n",
       "      <td>2205.0</td>\n",
       "      <td>2976.858333</td>\n",
       "      <td>2978.82</td>\n",
       "      <td>2969.35</td>\n",
       "      <td>2972.603333</td>\n",
       "      <td>1204.825710</td>\n",
       "      <td>2975.213919</td>\n",
       "      <td>NaN</td>\n",
       "    </tr>\n",
       "  </tbody>\n",
       "</table>\n",
       "</div>"
      ],
      "text/plain": [
       "            Asset_ID   Count         Open     High      Low        Close  \\\n",
       "timestamp                                                                  \n",
       "1632181260         6  2534.0  2960.612857  2968.70  2958.39  2965.927143   \n",
       "1632181320         6  2321.0  2965.741429  2969.29  2960.60  2966.315714   \n",
       "1632181380         6  1971.0  2967.775714  2971.11  2959.22  2961.050000   \n",
       "1632181440         6  2023.0  2961.502857  2964.77  2953.66  2955.754286   \n",
       "1632181500         6  2136.0  2955.425714  2960.23  2952.00  2953.845739   \n",
       "1632181560         6  2232.0  2954.987143  2965.91  2952.71  2962.108571   \n",
       "1632181620         6  1818.0  2963.701429  2966.19  2962.21  2963.394286   \n",
       "1632181680         6  1807.0  2963.307143  2966.07  2957.91  2959.516104   \n",
       "1632181740         6  3037.0  2959.851429  2974.10  2958.09  2971.905714   \n",
       "1632181800         6  4347.0  2972.461429  2982.58  2967.82  2978.068664   \n",
       "1632181860         6  2236.0  2977.472857  2979.21  2971.34  2975.140000   \n",
       "1632181920         6  1954.0  2974.152857  2981.68  2971.34  2977.195714   \n",
       "1632181980         6  1482.0  2977.297143  2980.08  2973.57  2977.387143   \n",
       "1632182040         6  1589.0  2978.032857  2982.90  2975.88  2978.137143   \n",
       "1632182100         6  1536.0  2977.782857  2979.00  2967.13  2974.027143   \n",
       "1632182160         6  2162.0  2973.728686  2976.10  2962.09  2964.711429   \n",
       "1632182220         6  1976.0  2965.461446  2967.95  2958.05  2960.845714   \n",
       "1632182280         6  2262.0  2960.321429  2962.60  2954.14  2957.398571   \n",
       "1632182340         6  3594.0  2958.771429  2978.71  2956.75  2977.190000   \n",
       "1632182400         6  2205.0  2976.858333  2978.82  2969.35  2972.603333   \n",
       "\n",
       "                 Volume         VWAP    Target  \n",
       "timestamp                                       \n",
       "1632181260   776.638911  2964.322014 -0.000736  \n",
       "1632181320   976.724995  2965.543538 -0.000491  \n",
       "1632181380   674.087973  2964.359745 -0.000562  \n",
       "1632181440   738.290907  2958.430582 -0.000346  \n",
       "1632181500  1039.819802  2954.909916       NaN  \n",
       "1632181560   988.495383  2959.758004       NaN  \n",
       "1632181620   543.637417  2964.446210       NaN  \n",
       "1632181680   616.735469  2962.137479       NaN  \n",
       "1632181740  1157.438196  2966.750574       NaN  \n",
       "1632181800  1909.666066  2976.327430       NaN  \n",
       "1632181860  1214.450028  2975.892402       NaN  \n",
       "1632181920   897.910876  2976.578485       NaN  \n",
       "1632181980   627.436628  2976.801821       NaN  \n",
       "1632182040   652.429945  2978.955863       NaN  \n",
       "1632182100   847.132620  2974.717101       NaN  \n",
       "1632182160   751.256906  2968.339295       NaN  \n",
       "1632182220   729.113672  2963.499199       NaN  \n",
       "1632182280   807.935362  2958.464868       NaN  \n",
       "1632182340  1723.473979  2970.867698       NaN  \n",
       "1632182400  1204.825710  2975.213919       NaN  "
      ]
     },
     "execution_count": 16,
     "metadata": {},
     "output_type": "execute_result"
    }
   ],
   "source": [
    "eth.tail(20) #printing the last 20 values in the dataset"
   ]
  },
  {
   "cell_type": "code",
   "execution_count": 17,
   "id": "5c0ba4a0",
   "metadata": {},
   "outputs": [],
   "source": [
    "eth_target_recreated=pd.read_csv('ethereum_Target.csv')"
   ]
  },
  {
   "cell_type": "code",
   "execution_count": 18,
   "id": "a3fce8f7",
   "metadata": {},
   "outputs": [
    {
     "data": {
      "text/html": [
       "<div>\n",
       "<style scoped>\n",
       "    .dataframe tbody tr th:only-of-type {\n",
       "        vertical-align: middle;\n",
       "    }\n",
       "\n",
       "    .dataframe tbody tr th {\n",
       "        vertical-align: top;\n",
       "    }\n",
       "\n",
       "    .dataframe thead th {\n",
       "        text-align: right;\n",
       "    }\n",
       "</style>\n",
       "<table border=\"1\" class=\"dataframe\">\n",
       "  <thead>\n",
       "    <tr style=\"text-align: right;\">\n",
       "      <th></th>\n",
       "      <th>timestamp</th>\n",
       "      <th>Target_recreated</th>\n",
       "    </tr>\n",
       "  </thead>\n",
       "  <tbody>\n",
       "    <tr>\n",
       "      <th>0</th>\n",
       "      <td>1514764860</td>\n",
       "      <td>-0.004809</td>\n",
       "    </tr>\n",
       "    <tr>\n",
       "      <th>1</th>\n",
       "      <td>1514764920</td>\n",
       "      <td>-0.004441</td>\n",
       "    </tr>\n",
       "    <tr>\n",
       "      <th>2</th>\n",
       "      <td>1514764980</td>\n",
       "      <td>-0.004206</td>\n",
       "    </tr>\n",
       "    <tr>\n",
       "      <th>3</th>\n",
       "      <td>1514765040</td>\n",
       "      <td>-0.002205</td>\n",
       "    </tr>\n",
       "    <tr>\n",
       "      <th>4</th>\n",
       "      <td>1514765100</td>\n",
       "      <td>-0.001744</td>\n",
       "    </tr>\n",
       "    <tr>\n",
       "      <th>...</th>\n",
       "      <td>...</td>\n",
       "      <td>...</td>\n",
       "    </tr>\n",
       "    <tr>\n",
       "      <th>1956777</th>\n",
       "      <td>1632182160</td>\n",
       "      <td>NaN</td>\n",
       "    </tr>\n",
       "    <tr>\n",
       "      <th>1956778</th>\n",
       "      <td>1632182220</td>\n",
       "      <td>NaN</td>\n",
       "    </tr>\n",
       "    <tr>\n",
       "      <th>1956779</th>\n",
       "      <td>1632182280</td>\n",
       "      <td>NaN</td>\n",
       "    </tr>\n",
       "    <tr>\n",
       "      <th>1956780</th>\n",
       "      <td>1632182340</td>\n",
       "      <td>NaN</td>\n",
       "    </tr>\n",
       "    <tr>\n",
       "      <th>1956781</th>\n",
       "      <td>1632182400</td>\n",
       "      <td>NaN</td>\n",
       "    </tr>\n",
       "  </tbody>\n",
       "</table>\n",
       "<p>1956782 rows × 2 columns</p>\n",
       "</div>"
      ],
      "text/plain": [
       "          timestamp  Target_recreated\n",
       "0        1514764860         -0.004809\n",
       "1        1514764920         -0.004441\n",
       "2        1514764980         -0.004206\n",
       "3        1514765040         -0.002205\n",
       "4        1514765100         -0.001744\n",
       "...             ...               ...\n",
       "1956777  1632182160               NaN\n",
       "1956778  1632182220               NaN\n",
       "1956779  1632182280               NaN\n",
       "1956780  1632182340               NaN\n",
       "1956781  1632182400               NaN\n",
       "\n",
       "[1956782 rows x 2 columns]"
      ]
     },
     "execution_count": 18,
     "metadata": {},
     "output_type": "execute_result"
    }
   ],
   "source": [
    "eth_target_recreated.reset_index(drop=True)"
   ]
  },
  {
   "cell_type": "code",
   "execution_count": 19,
   "id": "96782b59",
   "metadata": {},
   "outputs": [],
   "source": [
    "final_df=pd.merge(eth,eth_target_recreated,how='inner', on = 'timestamp')"
   ]
  },
  {
   "cell_type": "code",
   "execution_count": 20,
   "id": "9ef73733",
   "metadata": {},
   "outputs": [
    {
     "data": {
      "text/plain": [
       "848"
      ]
     },
     "execution_count": 20,
     "metadata": {},
     "output_type": "execute_result"
    }
   ],
   "source": [
    "final_df['Target_recreated'].isnull().sum()"
   ]
  },
  {
   "cell_type": "code",
   "execution_count": 21,
   "id": "0b4117f3",
   "metadata": {},
   "outputs": [
    {
     "data": {
      "text/plain": [
       "922"
      ]
     },
     "execution_count": 21,
     "metadata": {},
     "output_type": "execute_result"
    }
   ],
   "source": [
    "final_df['Target'].isnull().sum()"
   ]
  },
  {
   "cell_type": "code",
   "execution_count": 22,
   "id": "c3c2b70c",
   "metadata": {},
   "outputs": [
    {
     "data": {
      "text/plain": [
       "timestamp             0\n",
       "Asset_ID              0\n",
       "Count                 0\n",
       "Open                  0\n",
       "High                  0\n",
       "Low                   0\n",
       "Close                 0\n",
       "Volume                0\n",
       "VWAP                  0\n",
       "Target              922\n",
       "Target_recreated    848\n",
       "dtype: int64"
      ]
     },
     "execution_count": 22,
     "metadata": {},
     "output_type": "execute_result"
    }
   ],
   "source": [
    "final_df.isna().sum()"
   ]
  },
  {
   "cell_type": "code",
   "execution_count": 23,
   "id": "079f7fc0",
   "metadata": {},
   "outputs": [
    {
     "data": {
      "text/html": [
       "<div>\n",
       "<style scoped>\n",
       "    .dataframe tbody tr th:only-of-type {\n",
       "        vertical-align: middle;\n",
       "    }\n",
       "\n",
       "    .dataframe tbody tr th {\n",
       "        vertical-align: top;\n",
       "    }\n",
       "\n",
       "    .dataframe thead th {\n",
       "        text-align: right;\n",
       "    }\n",
       "</style>\n",
       "<table border=\"1\" class=\"dataframe\">\n",
       "  <thead>\n",
       "    <tr style=\"text-align: right;\">\n",
       "      <th></th>\n",
       "      <th>timestamp</th>\n",
       "      <th>Asset_ID</th>\n",
       "      <th>Count</th>\n",
       "      <th>Open</th>\n",
       "      <th>High</th>\n",
       "      <th>Low</th>\n",
       "      <th>Close</th>\n",
       "      <th>Volume</th>\n",
       "      <th>VWAP</th>\n",
       "      <th>Target</th>\n",
       "      <th>Target_recreated</th>\n",
       "    </tr>\n",
       "  </thead>\n",
       "  <tbody>\n",
       "    <tr>\n",
       "      <th>940259</th>\n",
       "      <td>1571181660</td>\n",
       "      <td>6</td>\n",
       "      <td>7.0</td>\n",
       "      <td>179.740000</td>\n",
       "      <td>179.79</td>\n",
       "      <td>179.68</td>\n",
       "      <td>179.723333</td>\n",
       "      <td>7.548218</td>\n",
       "      <td>179.728824</td>\n",
       "      <td>NaN</td>\n",
       "      <td>NaN</td>\n",
       "    </tr>\n",
       "    <tr>\n",
       "      <th>940274</th>\n",
       "      <td>1571182560</td>\n",
       "      <td>6</td>\n",
       "      <td>3.0</td>\n",
       "      <td>180.575000</td>\n",
       "      <td>180.80</td>\n",
       "      <td>180.32</td>\n",
       "      <td>180.560000</td>\n",
       "      <td>2.820106</td>\n",
       "      <td>180.567940</td>\n",
       "      <td>NaN</td>\n",
       "      <td>NaN</td>\n",
       "    </tr>\n",
       "    <tr>\n",
       "      <th>940289</th>\n",
       "      <td>1571183460</td>\n",
       "      <td>6</td>\n",
       "      <td>1.0</td>\n",
       "      <td>180.600000</td>\n",
       "      <td>180.60</td>\n",
       "      <td>180.60</td>\n",
       "      <td>180.600000</td>\n",
       "      <td>0.563330</td>\n",
       "      <td>180.600000</td>\n",
       "      <td>NaN</td>\n",
       "      <td>NaN</td>\n",
       "    </tr>\n",
       "    <tr>\n",
       "      <th>940295</th>\n",
       "      <td>1571183820</td>\n",
       "      <td>6</td>\n",
       "      <td>12.0</td>\n",
       "      <td>180.843333</td>\n",
       "      <td>181.23</td>\n",
       "      <td>180.55</td>\n",
       "      <td>180.833333</td>\n",
       "      <td>15.698750</td>\n",
       "      <td>180.831998</td>\n",
       "      <td>NaN</td>\n",
       "      <td>NaN</td>\n",
       "    </tr>\n",
       "    <tr>\n",
       "      <th>940310</th>\n",
       "      <td>1571184720</td>\n",
       "      <td>6</td>\n",
       "      <td>5.0</td>\n",
       "      <td>180.285000</td>\n",
       "      <td>180.33</td>\n",
       "      <td>180.24</td>\n",
       "      <td>180.270000</td>\n",
       "      <td>1.955930</td>\n",
       "      <td>180.272424</td>\n",
       "      <td>NaN</td>\n",
       "      <td>NaN</td>\n",
       "    </tr>\n",
       "    <tr>\n",
       "      <th>...</th>\n",
       "      <td>...</td>\n",
       "      <td>...</td>\n",
       "      <td>...</td>\n",
       "      <td>...</td>\n",
       "      <td>...</td>\n",
       "      <td>...</td>\n",
       "      <td>...</td>\n",
       "      <td>...</td>\n",
       "      <td>...</td>\n",
       "      <td>...</td>\n",
       "      <td>...</td>\n",
       "    </tr>\n",
       "    <tr>\n",
       "      <th>1956777</th>\n",
       "      <td>1632182160</td>\n",
       "      <td>6</td>\n",
       "      <td>2162.0</td>\n",
       "      <td>2973.728686</td>\n",
       "      <td>2976.10</td>\n",
       "      <td>2962.09</td>\n",
       "      <td>2964.711429</td>\n",
       "      <td>751.256906</td>\n",
       "      <td>2968.339295</td>\n",
       "      <td>NaN</td>\n",
       "      <td>NaN</td>\n",
       "    </tr>\n",
       "    <tr>\n",
       "      <th>1956778</th>\n",
       "      <td>1632182220</td>\n",
       "      <td>6</td>\n",
       "      <td>1976.0</td>\n",
       "      <td>2965.461446</td>\n",
       "      <td>2967.95</td>\n",
       "      <td>2958.05</td>\n",
       "      <td>2960.845714</td>\n",
       "      <td>729.113672</td>\n",
       "      <td>2963.499199</td>\n",
       "      <td>NaN</td>\n",
       "      <td>NaN</td>\n",
       "    </tr>\n",
       "    <tr>\n",
       "      <th>1956779</th>\n",
       "      <td>1632182280</td>\n",
       "      <td>6</td>\n",
       "      <td>2262.0</td>\n",
       "      <td>2960.321429</td>\n",
       "      <td>2962.60</td>\n",
       "      <td>2954.14</td>\n",
       "      <td>2957.398571</td>\n",
       "      <td>807.935362</td>\n",
       "      <td>2958.464868</td>\n",
       "      <td>NaN</td>\n",
       "      <td>NaN</td>\n",
       "    </tr>\n",
       "    <tr>\n",
       "      <th>1956780</th>\n",
       "      <td>1632182340</td>\n",
       "      <td>6</td>\n",
       "      <td>3594.0</td>\n",
       "      <td>2958.771429</td>\n",
       "      <td>2978.71</td>\n",
       "      <td>2956.75</td>\n",
       "      <td>2977.190000</td>\n",
       "      <td>1723.473979</td>\n",
       "      <td>2970.867698</td>\n",
       "      <td>NaN</td>\n",
       "      <td>NaN</td>\n",
       "    </tr>\n",
       "    <tr>\n",
       "      <th>1956781</th>\n",
       "      <td>1632182400</td>\n",
       "      <td>6</td>\n",
       "      <td>2205.0</td>\n",
       "      <td>2976.858333</td>\n",
       "      <td>2978.82</td>\n",
       "      <td>2969.35</td>\n",
       "      <td>2972.603333</td>\n",
       "      <td>1204.825710</td>\n",
       "      <td>2975.213919</td>\n",
       "      <td>NaN</td>\n",
       "      <td>NaN</td>\n",
       "    </tr>\n",
       "  </tbody>\n",
       "</table>\n",
       "<p>848 rows × 11 columns</p>\n",
       "</div>"
      ],
      "text/plain": [
       "          timestamp  Asset_ID   Count         Open     High      Low  \\\n",
       "940259   1571181660         6     7.0   179.740000   179.79   179.68   \n",
       "940274   1571182560         6     3.0   180.575000   180.80   180.32   \n",
       "940289   1571183460         6     1.0   180.600000   180.60   180.60   \n",
       "940295   1571183820         6    12.0   180.843333   181.23   180.55   \n",
       "940310   1571184720         6     5.0   180.285000   180.33   180.24   \n",
       "...             ...       ...     ...          ...      ...      ...   \n",
       "1956777  1632182160         6  2162.0  2973.728686  2976.10  2962.09   \n",
       "1956778  1632182220         6  1976.0  2965.461446  2967.95  2958.05   \n",
       "1956779  1632182280         6  2262.0  2960.321429  2962.60  2954.14   \n",
       "1956780  1632182340         6  3594.0  2958.771429  2978.71  2956.75   \n",
       "1956781  1632182400         6  2205.0  2976.858333  2978.82  2969.35   \n",
       "\n",
       "               Close       Volume         VWAP  Target  Target_recreated  \n",
       "940259    179.723333     7.548218   179.728824     NaN               NaN  \n",
       "940274    180.560000     2.820106   180.567940     NaN               NaN  \n",
       "940289    180.600000     0.563330   180.600000     NaN               NaN  \n",
       "940295    180.833333    15.698750   180.831998     NaN               NaN  \n",
       "940310    180.270000     1.955930   180.272424     NaN               NaN  \n",
       "...              ...          ...          ...     ...               ...  \n",
       "1956777  2964.711429   751.256906  2968.339295     NaN               NaN  \n",
       "1956778  2960.845714   729.113672  2963.499199     NaN               NaN  \n",
       "1956779  2957.398571   807.935362  2958.464868     NaN               NaN  \n",
       "1956780  2977.190000  1723.473979  2970.867698     NaN               NaN  \n",
       "1956781  2972.603333  1204.825710  2975.213919     NaN               NaN  \n",
       "\n",
       "[848 rows x 11 columns]"
      ]
     },
     "execution_count": 23,
     "metadata": {},
     "output_type": "execute_result"
    }
   ],
   "source": [
    "final_df[final_df['Target_recreated'].isnull()]"
   ]
  },
  {
   "cell_type": "code",
   "execution_count": 24,
   "id": "f18776fe",
   "metadata": {},
   "outputs": [],
   "source": [
    "final_df['Final_Target']=final_df['Target'].interpolate(option='spline')"
   ]
  },
  {
   "cell_type": "markdown",
   "id": "f67c21bb",
   "metadata": {},
   "source": [
    "https://towardsdatascience.com/4-techniques-to-handle-missing-values-in-time-series-data-c3568589b5a8"
   ]
  },
  {
   "cell_type": "code",
   "execution_count": 25,
   "id": "1024792d",
   "metadata": {},
   "outputs": [
    {
     "data": {
      "text/plain": [
       "timestamp             0\n",
       "Asset_ID              0\n",
       "Count                 0\n",
       "Open                  0\n",
       "High                  0\n",
       "Low                   0\n",
       "Close                 0\n",
       "Volume                0\n",
       "VWAP                  0\n",
       "Target              922\n",
       "Target_recreated    848\n",
       "Final_Target          0\n",
       "dtype: int64"
      ]
     },
     "execution_count": 25,
     "metadata": {},
     "output_type": "execute_result"
    }
   ],
   "source": [
    "final_df.isna().sum() #checking the null values"
   ]
  },
  {
   "cell_type": "code",
   "execution_count": 26,
   "id": "05e542f7",
   "metadata": {},
   "outputs": [
    {
     "data": {
      "text/html": [
       "<div>\n",
       "<style scoped>\n",
       "    .dataframe tbody tr th:only-of-type {\n",
       "        vertical-align: middle;\n",
       "    }\n",
       "\n",
       "    .dataframe tbody tr th {\n",
       "        vertical-align: top;\n",
       "    }\n",
       "\n",
       "    .dataframe thead th {\n",
       "        text-align: right;\n",
       "    }\n",
       "</style>\n",
       "<table border=\"1\" class=\"dataframe\">\n",
       "  <thead>\n",
       "    <tr style=\"text-align: right;\">\n",
       "      <th></th>\n",
       "      <th>timestamp</th>\n",
       "      <th>Asset_ID</th>\n",
       "      <th>Count</th>\n",
       "      <th>Open</th>\n",
       "      <th>High</th>\n",
       "      <th>Low</th>\n",
       "      <th>Close</th>\n",
       "      <th>Volume</th>\n",
       "      <th>VWAP</th>\n",
       "      <th>Target</th>\n",
       "      <th>Target_recreated</th>\n",
       "      <th>Final_Target</th>\n",
       "    </tr>\n",
       "  </thead>\n",
       "  <tbody>\n",
       "    <tr>\n",
       "      <th>count</th>\n",
       "      <td>1.956782e+06</td>\n",
       "      <td>1956782.0</td>\n",
       "      <td>1.956782e+06</td>\n",
       "      <td>1.956782e+06</td>\n",
       "      <td>1.956782e+06</td>\n",
       "      <td>1.956782e+06</td>\n",
       "      <td>1.956782e+06</td>\n",
       "      <td>1.956782e+06</td>\n",
       "      <td>1.956782e+06</td>\n",
       "      <td>1.955860e+06</td>\n",
       "      <td>1.955934e+06</td>\n",
       "      <td>1.956782e+06</td>\n",
       "    </tr>\n",
       "    <tr>\n",
       "      <th>mean</th>\n",
       "      <td>1.573474e+09</td>\n",
       "      <td>6.0</td>\n",
       "      <td>6.889078e+02</td>\n",
       "      <td>7.058921e+02</td>\n",
       "      <td>7.077288e+02</td>\n",
       "      <td>7.042066e+02</td>\n",
       "      <td>7.058931e+02</td>\n",
       "      <td>1.135996e+03</td>\n",
       "      <td>7.058860e+02</td>\n",
       "      <td>-1.569049e-06</td>\n",
       "      <td>-1.634404e-06</td>\n",
       "      <td>-2.391947e-06</td>\n",
       "    </tr>\n",
       "    <tr>\n",
       "      <th>std</th>\n",
       "      <td>3.389672e+07</td>\n",
       "      <td>0.0</td>\n",
       "      <td>1.218383e+03</td>\n",
       "      <td>8.755212e+02</td>\n",
       "      <td>8.767437e+02</td>\n",
       "      <td>8.741963e+02</td>\n",
       "      <td>8.755220e+02</td>\n",
       "      <td>2.055105e+03</td>\n",
       "      <td>8.755176e+02</td>\n",
       "      <td>2.495549e-03</td>\n",
       "      <td>2.495750e-03</td>\n",
       "      <td>2.497708e-03</td>\n",
       "    </tr>\n",
       "    <tr>\n",
       "      <th>min</th>\n",
       "      <td>1.514765e+09</td>\n",
       "      <td>6.0</td>\n",
       "      <td>1.000000e+00</td>\n",
       "      <td>8.178300e+01</td>\n",
       "      <td>8.265000e+01</td>\n",
       "      <td>8.056000e+01</td>\n",
       "      <td>8.176683e+01</td>\n",
       "      <td>3.000000e-06</td>\n",
       "      <td>8.177974e+01</td>\n",
       "      <td>-1.588562e-01</td>\n",
       "      <td>-1.588562e-01</td>\n",
       "      <td>-1.588562e-01</td>\n",
       "    </tr>\n",
       "    <tr>\n",
       "      <th>25%</th>\n",
       "      <td>1.544117e+09</td>\n",
       "      <td>6.0</td>\n",
       "      <td>1.560000e+02</td>\n",
       "      <td>1.820025e+02</td>\n",
       "      <td>1.826600e+02</td>\n",
       "      <td>1.816400e+02</td>\n",
       "      <td>1.820043e+02</td>\n",
       "      <td>2.744026e+02</td>\n",
       "      <td>1.820044e+02</td>\n",
       "      <td>-1.111725e-03</td>\n",
       "      <td>-1.111770e-03</td>\n",
       "      <td>-1.112043e-03</td>\n",
       "    </tr>\n",
       "    <tr>\n",
       "      <th>50%</th>\n",
       "      <td>1.573478e+09</td>\n",
       "      <td>6.0</td>\n",
       "      <td>2.870000e+02</td>\n",
       "      <td>2.840300e+02</td>\n",
       "      <td>2.846000e+02</td>\n",
       "      <td>2.835000e+02</td>\n",
       "      <td>2.840270e+02</td>\n",
       "      <td>5.754129e+02</td>\n",
       "      <td>2.840254e+02</td>\n",
       "      <td>-2.770213e-05</td>\n",
       "      <td>-2.774934e-05</td>\n",
       "      <td>-2.795242e-05</td>\n",
       "    </tr>\n",
       "    <tr>\n",
       "      <th>75%</th>\n",
       "      <td>1.602830e+09</td>\n",
       "      <td>6.0</td>\n",
       "      <td>7.280000e+02</td>\n",
       "      <td>7.285700e+02</td>\n",
       "      <td>7.303000e+02</td>\n",
       "      <td>7.266475e+02</td>\n",
       "      <td>7.285516e+02</td>\n",
       "      <td>1.211806e+03</td>\n",
       "      <td>7.285606e+02</td>\n",
       "      <td>1.059238e-03</td>\n",
       "      <td>1.059221e-03</td>\n",
       "      <td>1.058902e-03</td>\n",
       "    </tr>\n",
       "    <tr>\n",
       "      <th>max</th>\n",
       "      <td>1.632182e+09</td>\n",
       "      <td>6.0</td>\n",
       "      <td>6.625300e+04</td>\n",
       "      <td>4.369117e+03</td>\n",
       "      <td>4.384430e+03</td>\n",
       "      <td>4.356740e+03</td>\n",
       "      <td>4.368897e+03</td>\n",
       "      <td>1.120268e+05</td>\n",
       "      <td>4.371723e+03</td>\n",
       "      <td>2.023877e-01</td>\n",
       "      <td>2.023877e-01</td>\n",
       "      <td>2.023877e-01</td>\n",
       "    </tr>\n",
       "  </tbody>\n",
       "</table>\n",
       "</div>"
      ],
      "text/plain": [
       "          timestamp   Asset_ID         Count          Open          High  \\\n",
       "count  1.956782e+06  1956782.0  1.956782e+06  1.956782e+06  1.956782e+06   \n",
       "mean   1.573474e+09        6.0  6.889078e+02  7.058921e+02  7.077288e+02   \n",
       "std    3.389672e+07        0.0  1.218383e+03  8.755212e+02  8.767437e+02   \n",
       "min    1.514765e+09        6.0  1.000000e+00  8.178300e+01  8.265000e+01   \n",
       "25%    1.544117e+09        6.0  1.560000e+02  1.820025e+02  1.826600e+02   \n",
       "50%    1.573478e+09        6.0  2.870000e+02  2.840300e+02  2.846000e+02   \n",
       "75%    1.602830e+09        6.0  7.280000e+02  7.285700e+02  7.303000e+02   \n",
       "max    1.632182e+09        6.0  6.625300e+04  4.369117e+03  4.384430e+03   \n",
       "\n",
       "                Low         Close        Volume          VWAP        Target  \\\n",
       "count  1.956782e+06  1.956782e+06  1.956782e+06  1.956782e+06  1.955860e+06   \n",
       "mean   7.042066e+02  7.058931e+02  1.135996e+03  7.058860e+02 -1.569049e-06   \n",
       "std    8.741963e+02  8.755220e+02  2.055105e+03  8.755176e+02  2.495549e-03   \n",
       "min    8.056000e+01  8.176683e+01  3.000000e-06  8.177974e+01 -1.588562e-01   \n",
       "25%    1.816400e+02  1.820043e+02  2.744026e+02  1.820044e+02 -1.111725e-03   \n",
       "50%    2.835000e+02  2.840270e+02  5.754129e+02  2.840254e+02 -2.770213e-05   \n",
       "75%    7.266475e+02  7.285516e+02  1.211806e+03  7.285606e+02  1.059238e-03   \n",
       "max    4.356740e+03  4.368897e+03  1.120268e+05  4.371723e+03  2.023877e-01   \n",
       "\n",
       "       Target_recreated  Final_Target  \n",
       "count      1.955934e+06  1.956782e+06  \n",
       "mean      -1.634404e-06 -2.391947e-06  \n",
       "std        2.495750e-03  2.497708e-03  \n",
       "min       -1.588562e-01 -1.588562e-01  \n",
       "25%       -1.111770e-03 -1.112043e-03  \n",
       "50%       -2.774934e-05 -2.795242e-05  \n",
       "75%        1.059221e-03  1.058902e-03  \n",
       "max        2.023877e-01  2.023877e-01  "
      ]
     },
     "execution_count": 26,
     "metadata": {},
     "output_type": "execute_result"
    }
   ],
   "source": [
    "final_df.describe() #the statistical measures for each feature iinthe data set"
   ]
  },
  {
   "cell_type": "code",
   "execution_count": 27,
   "id": "dfbd3b87",
   "metadata": {},
   "outputs": [],
   "source": [
    "import seaborn as sns"
   ]
  },
  {
   "cell_type": "code",
   "execution_count": 28,
   "id": "a9d0b0e4",
   "metadata": {},
   "outputs": [],
   "source": [
    "final_df['timestamp'] = pd.to_datetime(final_df['timestamp'], unit='s')"
   ]
  },
  {
   "cell_type": "code",
   "execution_count": 45,
   "id": "bf5b0d2f",
   "metadata": {},
   "outputs": [],
   "source": [
    "final_df.to_csv('Final_ethereum_data.csv')"
   ]
  },
  {
   "cell_type": "markdown",
   "id": "b366a5cb",
   "metadata": {},
   "source": [
    "http://www.faculty.ucr.edu/~taelee/paper/lossfunctions.pdf"
   ]
  },
  {
   "cell_type": "markdown",
   "id": "9622b885",
   "metadata": {},
   "source": [
    "Forecasting task: Predict target in the future."
   ]
  },
  {
   "cell_type": "code",
   "execution_count": 30,
   "id": "700ad67d",
   "metadata": {},
   "outputs": [
    {
     "data": {
      "text/plain": [
       "timestamp\n",
       "2018-01-01 00:01:00   -0.004809\n",
       "2018-01-01 00:02:00   -0.004441\n",
       "2018-01-01 00:03:00   -0.004206\n",
       "2018-01-01 00:04:00   -0.002205\n",
       "2018-01-01 00:05:00   -0.001744\n",
       "Name: Final_Target, dtype: float64"
      ]
     },
     "execution_count": 30,
     "metadata": {},
     "output_type": "execute_result"
    }
   ],
   "source": [
    "# univariate data: target vs Time\n",
    "\n",
    "uni_data_df = final_df['Final_Target']\n",
    "uni_data_df.index = final_df['timestamp']\n",
    "uni_data_df.head()"
   ]
  },
  {
   "cell_type": "code",
   "execution_count": 31,
   "id": "3d300cc2",
   "metadata": {},
   "outputs": [
    {
     "data": {
      "text/plain": [
       "<AxesSubplot:xlabel='timestamp'>"
      ]
     },
     "execution_count": 31,
     "metadata": {},
     "output_type": "execute_result"
    },
    {
     "data": {
      "image/png": "[encoded data removed]",
      "text/plain": [
       "<Figure size 432x288 with 1 Axes>"
      ]
     },
     "metadata": {
      "needs_background": "light"
     },
     "output_type": "display_data"
    }
   ],
   "source": [
    "uni_data_df.plot()"
   ]
  },
  {
   "cell_type": "code",
   "execution_count": 36,
   "id": "f6c17db1",
   "metadata": {},
   "outputs": [
    {
     "data": {
      "text/plain": [
       "<AxesSubplot:xlabel='timestamp'>"
      ]
     },
     "execution_count": 36,
     "metadata": {},
     "output_type": "execute_result"
    },
    {
     "data": {
      "image/png": "[encoded data removed]",
      "text/plain": [
       "<Figure size 432x288 with 1 Axes>"
      ]
     },
     "metadata": {
      "needs_background": "light"
     },
     "output_type": "display_data"
    }
   ],
   "source": [
    "#the plot of the volume feature\n",
    "uni_data_vol_df=final_df['Volume']\n",
    "uni_data_vol_df.index = final_df['timestamp']\n",
    "uni_data_vol_df.plot()"
   ]
  },
  {
   "cell_type": "code",
   "execution_count": 37,
   "id": "58323e88",
   "metadata": {},
   "outputs": [
    {
     "data": {
      "text/plain": [
       "<AxesSubplot:xlabel='timestamp'>"
      ]
     },
     "execution_count": 37,
     "metadata": {},
     "output_type": "execute_result"
    },
    {
     "data": {
      "image/png": "[encoded data removed]",
      "text/plain": [
       "<Figure size 432x288 with 1 Axes>"
      ]
     },
     "metadata": {
      "needs_background": "light"
     },
     "output_type": "display_data"
    }
   ],
   "source": [
    "#the plot of the VWAP feature\n",
    "uni_data_vwap_df=final_df['VWAP']\n",
    "uni_data_vwap_df.index = final_df['timestamp']\n",
    "uni_data_vwap_df.plot()"
   ]
  },
  {
   "cell_type": "code",
   "execution_count": 39,
   "id": "2e08b1fe",
   "metadata": {},
   "outputs": [
    {
     "data": {
      "text/plain": [
       "<AxesSubplot:xlabel='timestamp'>"
      ]
     },
     "execution_count": 39,
     "metadata": {},
     "output_type": "execute_result"
    },
    {
     "data": {
      "image/png": "[encoded data removed]",
      "text/plain": [
       "<Figure size 432x288 with 1 Axes>"
      ]
     },
     "metadata": {
      "needs_background": "light"
     },
     "output_type": "display_data"
    }
   ],
   "source": [
    "#the plot of the close feature\n",
    "uni_data_close_df=final_df['Close']\n",
    "uni_data_close_df.index = final_df['timestamp']\n",
    "uni_data_close_df.plot()"
   ]
  },
  {
   "cell_type": "code",
   "execution_count": 40,
   "id": "99b25b86",
   "metadata": {},
   "outputs": [
    {
     "data": {
      "text/plain": [
       "<AxesSubplot:xlabel='timestamp'>"
      ]
     },
     "execution_count": 40,
     "metadata": {},
     "output_type": "execute_result"
    },
    {
     "data": {
      "image/png": "[encoded data removed]",
      "text/plain": [
       "<Figure size 432x288 with 1 Axes>"
      ]
     },
     "metadata": {
      "needs_background": "light"
     },
     "output_type": "display_data"
    }
   ],
   "source": [
    "#the plot of the count feature\n",
    "uni_data_count_df=final_df['Count']\n",
    "uni_data_count_df.index = final_df['timestamp']\n",
    "uni_data_count_df.plot()"
   ]
  },
  {
   "cell_type": "code",
   "execution_count": 43,
   "id": "90ddcb1b",
   "metadata": {},
   "outputs": [
    {
     "name": "stdout",
     "output_type": "stream",
     "text": [
      "                  Asset_ID     Count      Open      High       Low     Close  \\\n",
      "Asset_ID               NaN       NaN       NaN       NaN       NaN       NaN   \n",
      "Count                  NaN  1.000000  0.518446  0.519337  0.517412  0.518408   \n",
      "Open                   NaN  0.518446  1.000000  0.999995  0.999993  0.999998   \n",
      "High                   NaN  0.519337  0.999995  1.000000  0.999980  0.999995   \n",
      "Low                    NaN  0.517412  0.999993  0.999980  1.000000  0.999993   \n",
      "Close                  NaN  0.518408  0.999998  0.999995  0.999993  1.000000   \n",
      "Volume                 NaN  0.653442  0.057704  0.058306  0.056968  0.057654   \n",
      "VWAP                   NaN  0.518396  0.999999  0.999996  0.999993  0.999999   \n",
      "Target                 NaN  0.015767  0.001080  0.001090  0.001018  0.001060   \n",
      "Target_recreated       NaN  0.015779  0.001087  0.001097  0.001026  0.001067   \n",
      "Final_Target           NaN  0.015892  0.001226  0.001237  0.001165  0.001207   \n",
      "\n",
      "                    Volume      VWAP    Target  Target_recreated  Final_Target  \n",
      "Asset_ID               NaN       NaN       NaN               NaN           NaN  \n",
      "Count             0.653442  0.518396  0.015767          0.015779      0.015892  \n",
      "Open              0.057704  0.999999  0.001080          0.001087      0.001226  \n",
      "High              0.058306  0.999996  0.001090          0.001097      0.001237  \n",
      "Low               0.056968  0.999993  0.001018          0.001026      0.001165  \n",
      "Close             0.057654  0.999999  0.001060          0.001067      0.001207  \n",
      "Volume            1.000000  0.057650  0.032084          0.032095      0.032264  \n",
      "VWAP              0.057650  1.000000  0.001069          0.001076      0.001215  \n",
      "Target            0.032084  0.001069  1.000000          0.999999      1.000000  \n",
      "Target_recreated  0.032095  0.001076  0.999999          1.000000      0.999986  \n",
      "Final_Target      0.032264  0.001215  1.000000          0.999986      1.000000  \n"
     ]
    }
   ],
   "source": [
    "correlations = final_df.corr() #pearson correlation\n",
    "print(correlations)"
   ]
  },
  {
   "cell_type": "code",
   "execution_count": 44,
   "id": "2658f26f",
   "metadata": {},
   "outputs": [
    {
     "data": {
      "image/png": "[encoded data removed]",
      "text/plain": [
       "<Figure size 432x288 with 2 Axes>"
      ]
     },
     "metadata": {
      "needs_background": "light"
     },
     "output_type": "display_data"
    }
   ],
   "source": [
    "%matplotlib inline\n",
    "\n",
    "sns.heatmap(correlations)\n",
    "plt.show()"
   ]
  }
 ],
 "metadata": {
  "kernelspec": {
   "display_name": "Python 3 (ipykernel)",
   "language": "python",
   "name": "python3"
  },
  "language_info": {
   "codemirror_mode": {
    "name": "ipython",
    "version": 3
   },
   "file_extension": ".py",
   "mimetype": "text/x-python",
   "name": "python",
   "nbconvert_exporter": "python",
   "pygments_lexer": "ipython3",
   "version": "3.9.7"
  }
 },
 "nbformat": 4,
 "nbformat_minor": 5
}
